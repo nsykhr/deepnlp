{
 "cells": [
  {
   "cell_type": "code",
   "execution_count": 1,
   "metadata": {},
   "outputs": [],
   "source": [
    "import seaborn as sns\n",
    "from matplotlib import pyplot as plt\n",
    "from sklearn.metrics import confusion_matrix\n",
    "sns.set_style('darkgrid')\n",
    "\n",
    "from torch import nn\n",
    "from torch.utils.data import DataLoader\n",
    "from transformers import AutoModel, AlbertTokenizerFast\n",
    "\n",
    "from data import SNLICrossEncoderDataset, SNLIBiEncoderDataset\n",
    "from data.utils import get_data, collate_fn, collate_fn_biencoder\n",
    "\n",
    "from model import NLICrossEncoder, NLIBiEncoder\n",
    "\n",
    "from training import Trainer\n",
    "from training.utils import unfreeze_parameters"
   ]
  },
  {
   "cell_type": "markdown",
   "metadata": {},
   "source": [
    "# Data"
   ]
  },
  {
   "cell_type": "code",
   "execution_count": 2,
   "metadata": {},
   "outputs": [],
   "source": [
    "train, test, val = get_data('snli_1.0')"
   ]
  },
  {
   "cell_type": "code",
   "execution_count": 3,
   "metadata": {},
   "outputs": [],
   "source": [
    "LABELS = ['entailment', 'contradiction', 'neutral']\n",
    "NUM_LABELS = len(LABELS)\n",
    "\n",
    "train = train[train.target.isin(set(LABELS))]\n",
    "val = val[val.target.isin(set(LABELS))]\n",
    "test = test[test.target.isin(set(LABELS))]"
   ]
  },
  {
   "cell_type": "code",
   "execution_count": 4,
   "metadata": {},
   "outputs": [
    {
     "data": {
      "text/html": [
       "<div>\n",
       "<style scoped>\n",
       "    .dataframe tbody tr th:only-of-type {\n",
       "        vertical-align: middle;\n",
       "    }\n",
       "\n",
       "    .dataframe tbody tr th {\n",
       "        vertical-align: top;\n",
       "    }\n",
       "\n",
       "    .dataframe thead th {\n",
       "        text-align: right;\n",
       "    }\n",
       "</style>\n",
       "<table border=\"1\" class=\"dataframe\">\n",
       "  <thead>\n",
       "    <tr style=\"text-align: right;\">\n",
       "      <th></th>\n",
       "      <th>sentence1</th>\n",
       "      <th>sentence2</th>\n",
       "      <th>target</th>\n",
       "    </tr>\n",
       "  </thead>\n",
       "  <tbody>\n",
       "    <tr>\n",
       "      <th>0</th>\n",
       "      <td>A person on a horse jumps over a broken down a...</td>\n",
       "      <td>A person is training his horse for a competition.</td>\n",
       "      <td>neutral</td>\n",
       "    </tr>\n",
       "    <tr>\n",
       "      <th>1</th>\n",
       "      <td>A person on a horse jumps over a broken down a...</td>\n",
       "      <td>A person is at a diner, ordering an omelette.</td>\n",
       "      <td>contradiction</td>\n",
       "    </tr>\n",
       "    <tr>\n",
       "      <th>2</th>\n",
       "      <td>A person on a horse jumps over a broken down a...</td>\n",
       "      <td>A person is outdoors, on a horse.</td>\n",
       "      <td>entailment</td>\n",
       "    </tr>\n",
       "    <tr>\n",
       "      <th>3</th>\n",
       "      <td>Children smiling and waving at camera</td>\n",
       "      <td>They are smiling at their parents</td>\n",
       "      <td>neutral</td>\n",
       "    </tr>\n",
       "    <tr>\n",
       "      <th>4</th>\n",
       "      <td>Children smiling and waving at camera</td>\n",
       "      <td>There are children present</td>\n",
       "      <td>entailment</td>\n",
       "    </tr>\n",
       "  </tbody>\n",
       "</table>\n",
       "</div>"
      ],
      "text/plain": [
       "                                           sentence1  \\\n",
       "0  A person on a horse jumps over a broken down a...   \n",
       "1  A person on a horse jumps over a broken down a...   \n",
       "2  A person on a horse jumps over a broken down a...   \n",
       "3              Children smiling and waving at camera   \n",
       "4              Children smiling and waving at camera   \n",
       "\n",
       "                                           sentence2         target  \n",
       "0  A person is training his horse for a competition.        neutral  \n",
       "1      A person is at a diner, ordering an omelette.  contradiction  \n",
       "2                  A person is outdoors, on a horse.     entailment  \n",
       "3                  They are smiling at their parents        neutral  \n",
       "4                         There are children present     entailment  "
      ]
     },
     "execution_count": 4,
     "metadata": {},
     "output_type": "execute_result"
    }
   ],
   "source": [
    "train.head()"
   ]
  },
  {
   "cell_type": "code",
   "execution_count": 5,
   "metadata": {},
   "outputs": [],
   "source": [
    "target2idx = {l: i for i, l in enumerate(LABELS)}\n",
    "train.target = train.target.map(target2idx)\n",
    "val.target = val.target.map(target2idx)\n",
    "test.target = test.target.map(target2idx)"
   ]
  },
  {
   "cell_type": "code",
   "execution_count": 6,
   "metadata": {},
   "outputs": [],
   "source": [
    "albert_tokenizer = AlbertTokenizerFast.from_pretrained('albert-base-v2')"
   ]
  },
  {
   "cell_type": "code",
   "execution_count": 7,
   "metadata": {},
   "outputs": [],
   "source": [
    "train_dataset = SNLIBiEncoderDataset(albert_tokenizer, train.sentence1.tolist(), train.sentence2.tolist(), train.target.tolist())\n",
    "val_dataset = SNLIBiEncoderDataset(albert_tokenizer, val.sentence1.tolist(), val.sentence2.tolist(), val.target.tolist())"
   ]
  },
  {
   "cell_type": "code",
   "execution_count": 8,
   "metadata": {},
   "outputs": [],
   "source": [
    "train_loader = DataLoader(train_dataset, batch_size=48, shuffle=True, collate_fn=collate_fn_biencoder)\n",
    "val_loader = DataLoader(val_dataset, batch_size=48, shuffle=False, collate_fn=collate_fn_biencoder)"
   ]
  },
  {
   "cell_type": "markdown",
   "metadata": {},
   "source": [
    "# Model"
   ]
  },
  {
   "cell_type": "code",
   "execution_count": 9,
   "metadata": {},
   "outputs": [],
   "source": [
    "albert = AutoModel.from_pretrained('albert-base-v2')"
   ]
  },
  {
   "cell_type": "code",
   "execution_count": 10,
   "metadata": {},
   "outputs": [],
   "source": [
    "model = NLIBiEncoder(albert, NUM_LABELS, lambda x: x.pooler_output)"
   ]
  },
  {
   "cell_type": "code",
   "execution_count": 11,
   "metadata": {},
   "outputs": [],
   "source": [
    "criterion = nn.CrossEntropyLoss()\n",
    "trainer = Trainer(model, criterion, 'albert/v2/albert_snli.pt', 'albert/v2/albert_optimizer.pt', lr=1e-4, device='cuda:0')"
   ]
  },
  {
   "cell_type": "markdown",
   "metadata": {},
   "source": [
    "# Training"
   ]
  },
  {
   "cell_type": "code",
   "execution_count": 12,
   "metadata": {
    "scrolled": true
   },
   "outputs": [
    {
     "name": "stdout",
     "output_type": "stream",
     "text": [
      "Epoch 1/30:\n"
     ]
    },
    {
     "name": "stderr",
     "output_type": "stream",
     "text": [
      "Mean loss: 1.0949585015773773. Current progress: : 100%|██████████| 11446/11446 [15:13<00:00, 12.53it/s]\n"
     ]
    },
    {
     "name": "stdout",
     "output_type": "stream",
     "text": [
      "Mean training loss: 1.0953346704261901. Mean validation loss: 1.0943060299245322.\n",
      "Training accuracy: 0.34755454914474293. Validation accuracy: 0.34486970684039087.\n",
      "Epoch 2/30:\n"
     ]
    },
    {
     "name": "stderr",
     "output_type": "stream",
     "text": [
      "Mean loss: 0.6502992432713509. Current progress: : 100%|██████████| 11446/11446 [38:39<00:00,  4.93it/s]\n"
     ]
    },
    {
     "name": "stdout",
     "output_type": "stream",
     "text": [
      "Mean training loss: 0.7553195606630081. Mean validation loss: 0.6174274345723594.\n",
      "Training accuracy: 0.66305584427168. Validation accuracy: 0.7509161237785016.\n",
      "Epoch 3/30:\n"
     ]
    },
    {
     "name": "stderr",
     "output_type": "stream",
     "text": [
      "Mean loss: 0.5857087196707725. Current progress: : 100%|██████████| 11446/11446 [38:29<00:00,  4.96it/s]\n"
     ]
    },
    {
     "name": "stdout",
     "output_type": "stream",
     "text": [
      "Mean training loss: 0.6040346294618061. Mean validation loss: 0.5479407015370159.\n",
      "Training accuracy: 0.7559864352973513. Validation accuracy: 0.780435667752443.\n",
      "Epoch 4/30:\n"
     ]
    },
    {
     "name": "stderr",
     "output_type": "stream",
     "text": [
      "Mean loss: 0.5297835335731507. Current progress: : 100%|██████████| 11446/11446 [38:27<00:00,  4.96it/s]\n"
     ]
    },
    {
     "name": "stdout",
     "output_type": "stream",
     "text": [
      "Mean training loss: 0.5402317184830553. Mean validation loss: 0.5105659543014154.\n",
      "Training accuracy: 0.7866398964626561. Validation accuracy: 0.7967223127035831.\n",
      "Epoch 5/30:\n"
     ]
    },
    {
     "name": "stderr",
     "output_type": "stream",
     "text": [
      "Mean loss: 0.5031466518193484. Current progress: : 100%|██████████| 11446/11446 [38:25<00:00,  4.97it/s] \n"
     ]
    },
    {
     "name": "stdout",
     "output_type": "stream",
     "text": [
      "Mean training loss: 0.4968620716696193. Mean validation loss: 0.4947787914334274.\n",
      "Training accuracy: 0.8061241392366123. Validation accuracy: 0.8015065146579805.\n",
      "Epoch 6/30:\n"
     ]
    },
    {
     "name": "stderr",
     "output_type": "stream",
     "text": [
      "Mean loss: 0.479286268144846. Current progress: : 100%|██████████| 11446/11446 [38:36<00:00,  4.94it/s]  \n"
     ]
    },
    {
     "name": "stdout",
     "output_type": "stream",
     "text": [
      "Mean training loss: 0.46461186518105996. Mean validation loss: 0.49285416225107703.\n",
      "Training accuracy: 0.820771906576114. Validation accuracy: 0.8040513029315961.\n",
      "Epoch 7/30:\n"
     ]
    },
    {
     "name": "stderr",
     "output_type": "stream",
     "text": [
      "Mean loss: 0.4391781981885433. Current progress: : 100%|██████████| 11446/11446 [38:34<00:00,  4.95it/s] \n"
     ]
    },
    {
     "name": "stdout",
     "output_type": "stream",
     "text": [
      "Mean training loss: 0.4514775233938522. Mean validation loss: 0.49933561224762985.\n",
      "Training accuracy: 0.8266022531386122. Validation accuracy: 0.802728013029316.\n",
      "Epoch 8/30:\n"
     ]
    },
    {
     "name": "stderr",
     "output_type": "stream",
     "text": [
      "Mean loss: 0.4423049605190754. Current progress: : 100%|██████████| 11446/11446 [38:36<00:00,  4.94it/s] \n"
     ]
    },
    {
     "name": "stdout",
     "output_type": "stream",
     "text": [
      "Mean training loss: 0.42808891038950475. Mean validation loss: 0.49196095735561557.\n",
      "Training accuracy: 0.8372272087693655. Validation accuracy: 0.8055781758957655.\n",
      "Epoch 9/30:\n"
     ]
    },
    {
     "name": "stderr",
     "output_type": "stream",
     "text": [
      "Mean loss: 0.411624010771513. Current progress: : 100%|██████████| 11446/11446 [38:31<00:00,  4.95it/s]  \n"
     ]
    },
    {
     "name": "stdout",
     "output_type": "stream",
     "text": [
      "Mean training loss: 0.40563792123916725. Mean validation loss: 0.4923465032403062.\n",
      "Training accuracy: 0.8470421412279951. Validation accuracy: 0.8079193811074918.\n",
      "Epoch 10/30:\n"
     ]
    },
    {
     "name": "stderr",
     "output_type": "stream",
     "text": [
      "Mean loss: 0.39452033895254135. Current progress: : 100%|██████████| 11446/11446 [38:26<00:00,  4.96it/s]\n"
     ]
    },
    {
     "name": "stdout",
     "output_type": "stream",
     "text": [
      "Mean training loss: 0.38368622501965444. Mean validation loss: 0.5086415731325382.\n",
      "Training accuracy: 0.8569772119548499. Validation accuracy: 0.8093444625407166.\n",
      "Epoch 11/30:\n"
     ]
    },
    {
     "name": "stderr",
     "output_type": "stream",
     "text": [
      "Mean loss: 0.3782669996023178. Current progress: : 100%|██████████| 11446/11446 [38:33<00:00,  4.95it/s] \n"
     ]
    },
    {
     "name": "stdout",
     "output_type": "stream",
     "text": [
      "Mean training loss: 0.3600157405683133. Mean validation loss: 0.5155552353800796.\n",
      "Training accuracy: 0.8663753010282743. Validation accuracy: 0.8074104234527687.\n",
      "Epoch 12/30:\n"
     ]
    },
    {
     "name": "stderr",
     "output_type": "stream",
     "text": [
      "Mean loss: 0.3517405775487423. Current progress: : 100%|██████████| 11446/11446 [38:35<00:00,  4.94it/s] \n"
     ]
    },
    {
     "name": "stdout",
     "output_type": "stream",
     "text": [
      "Mean training loss: 0.3385938245906616. Mean validation loss: 0.5326818583942041.\n",
      "Training accuracy: 0.8751308323943738. Validation accuracy: 0.8061889250814332.\n",
      "Epoch 13/30:\n"
     ]
    },
    {
     "name": "stderr",
     "output_type": "stream",
     "text": [
      "Mean loss: 0.33247916282713413. Current progress: : 100%|██████████| 11446/11446 [38:39<00:00,  4.93it/s]\n"
     ]
    },
    {
     "name": "stdout",
     "output_type": "stream",
     "text": [
      "Mean training loss: 0.3161981928121756. Mean validation loss: 0.5677866657332676.\n",
      "Training accuracy: 0.8847546357899182. Validation accuracy: 0.8003868078175895.\n",
      "Validation performance has started degrading. Performing early stopping.\n"
     ]
    },
    {
     "data": {
      "text/plain": [
       "NLIBiEncoder(\n",
       "  (encoder): AlbertModel(\n",
       "    (embeddings): AlbertEmbeddings(\n",
       "      (word_embeddings): Embedding(30000, 128, padding_idx=0)\n",
       "      (position_embeddings): Embedding(512, 128)\n",
       "      (token_type_embeddings): Embedding(2, 128)\n",
       "      (LayerNorm): LayerNorm((128,), eps=1e-12, elementwise_affine=True)\n",
       "      (dropout): Dropout(p=0, inplace=False)\n",
       "    )\n",
       "    (encoder): AlbertTransformer(\n",
       "      (embedding_hidden_mapping_in): Linear(in_features=128, out_features=768, bias=True)\n",
       "      (albert_layer_groups): ModuleList(\n",
       "        (0): AlbertLayerGroup(\n",
       "          (albert_layers): ModuleList(\n",
       "            (0): AlbertLayer(\n",
       "              (full_layer_layer_norm): LayerNorm((768,), eps=1e-12, elementwise_affine=True)\n",
       "              (attention): AlbertAttention(\n",
       "                (query): Linear(in_features=768, out_features=768, bias=True)\n",
       "                (key): Linear(in_features=768, out_features=768, bias=True)\n",
       "                (value): Linear(in_features=768, out_features=768, bias=True)\n",
       "                (attention_dropout): Dropout(p=0, inplace=False)\n",
       "                (output_dropout): Dropout(p=0, inplace=False)\n",
       "                (dense): Linear(in_features=768, out_features=768, bias=True)\n",
       "                (LayerNorm): LayerNorm((768,), eps=1e-12, elementwise_affine=True)\n",
       "              )\n",
       "              (ffn): Linear(in_features=768, out_features=3072, bias=True)\n",
       "              (ffn_output): Linear(in_features=3072, out_features=768, bias=True)\n",
       "              (dropout): Dropout(p=0, inplace=False)\n",
       "            )\n",
       "          )\n",
       "        )\n",
       "      )\n",
       "    )\n",
       "    (pooler): Linear(in_features=768, out_features=768, bias=True)\n",
       "    (pooler_activation): Tanh()\n",
       "  )\n",
       "  (fc_hidden): ModuleList(\n",
       "    (0): Linear(in_features=1536, out_features=512, bias=True)\n",
       "    (1): ReLU()\n",
       "    (2): Dropout(p=0.5, inplace=False)\n",
       "    (3): Linear(in_features=512, out_features=512, bias=True)\n",
       "    (4): ReLU()\n",
       "    (5): Dropout(p=0.5, inplace=False)\n",
       "  )\n",
       "  (fc_output): Linear(in_features=512, out_features=3, bias=True)\n",
       ")"
      ]
     },
     "execution_count": 12,
     "metadata": {},
     "output_type": "execute_result"
    }
   ],
   "source": [
    "trainer.train(train_loader, val_loader, num_epochs=30, frozen_encoder_epochs=1)"
   ]
  },
  {
   "cell_type": "code",
   "execution_count": 13,
   "metadata": {},
   "outputs": [
    {
     "data": {
      "image/png": "[encoded data removed]",
      "text/plain": [
       "<Figure size 1008x864 with 1 Axes>"
      ]
     },
     "metadata": {},
     "output_type": "display_data"
    }
   ],
   "source": [
    "plt.figure(figsize=(14, 12))\n",
    "plt.plot(trainer.train_losses)\n",
    "plt.grid()\n",
    "plt.title('Training process')\n",
    "plt.xlabel('Iterations')\n",
    "plt.ylabel('Training loss');"
   ]
  },
  {
   "cell_type": "markdown",
   "metadata": {},
   "source": [
    "The observed loss dynamics suggest our model would benefit from a larger batch size."
   ]
  },
  {
   "cell_type": "code",
   "execution_count": null,
   "metadata": {},
   "outputs": [],
   "source": []
  }
 ],
 "metadata": {
  "kernelspec": {
   "display_name": "Python 3",
   "language": "python",
   "name": "python3"
  },
  "language_info": {
   "codemirror_mode": {
    "name": "ipython",
    "version": 3
   },
   "file_extension": ".py",
   "mimetype": "text/x-python",
   "name": "python",
   "nbconvert_exporter": "python",
   "pygments_lexer": "ipython3",
   "version": "3.8.3"
  }
 },
 "nbformat": 4,
 "nbformat_minor": 4
}
