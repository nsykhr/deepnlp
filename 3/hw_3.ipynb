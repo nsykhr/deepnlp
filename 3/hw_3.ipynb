{
 "cells": [
  {
   "cell_type": "code",
   "execution_count": 1,
   "metadata": {},
   "outputs": [],
   "source": [
    "import json\n",
    "import time\n",
    "from tqdm import tqdm\n",
    "from pprint import pprint\n",
    "from typing import List, Dict\n",
    "\n",
    "import math\n",
    "import numpy as np\n",
    "from matplotlib import pyplot as plt\n",
    "from sklearn.model_selection import train_test_split\n",
    "\n",
    "import youtokentome as yttm\n",
    "\n",
    "import torch\n",
    "from torch import nn\n",
    "from torch.nn import functional as F\n",
    "from torch.utils.data import Dataset, DataLoader\n",
    "from torch.nn.utils.rnn import pack_padded_sequence, pack_sequence, pad_packed_sequence"
   ]
  },
  {
   "cell_type": "markdown",
   "metadata": {},
   "source": [
    "## Data"
   ]
  },
  {
   "cell_type": "code",
   "execution_count": 2,
   "metadata": {},
   "outputs": [],
   "source": [
    "qa_data = list()\n",
    "\n",
    "with open('qa_data.jsonl') as file_object:\n",
    "    for line in file_object:\n",
    "        qa_data.append(json.loads(line.strip().lower()))"
   ]
  },
  {
   "cell_type": "code",
   "execution_count": 3,
   "metadata": {},
   "outputs": [
    {
     "name": "stdout",
     "output_type": "stream",
     "text": [
      "{'category': 'бизнес, финансы',\n",
      " 'question': 'долго ли идут деньги с яндексденег на карту visa?',\n",
      " 'responses': ['нет. прорыв 35 ;)']}\n"
     ]
    }
   ],
   "source": [
    "pprint(qa_data[0])"
   ]
  },
  {
   "cell_type": "markdown",
   "metadata": {},
   "source": [
    "## YTTM"
   ]
  },
  {
   "cell_type": "code",
   "execution_count": 4,
   "metadata": {},
   "outputs": [],
   "source": [
    "# with open('for_bpe.txt', 'w', encoding='utf-8') as f:\n",
    "#     for sample in qa_data:\n",
    "#         f.write(sample['question'] + '\\n')\n",
    "#         for response in sample['responses']:\n",
    "#             f.write(response + '\\n')"
   ]
  },
  {
   "cell_type": "code",
   "execution_count": 5,
   "metadata": {},
   "outputs": [],
   "source": [
    "model_path = 'pretrained_bpe_lm.model'"
   ]
  },
  {
   "cell_type": "code",
   "execution_count": 6,
   "metadata": {},
   "outputs": [],
   "source": [
    "# %%time\n",
    "\n",
    "# vocab_size = 30_000\n",
    "# yttm.BPE.train(data='for_bpe.txt', vocab_size=vocab_size, model=model_path)"
   ]
  },
  {
   "cell_type": "code",
   "execution_count": 7,
   "metadata": {},
   "outputs": [],
   "source": [
    "tokenizer = yttm.BPE(model=model_path)"
   ]
  },
  {
   "cell_type": "markdown",
   "metadata": {},
   "source": [
    "## Conditioning"
   ]
  },
  {
   "cell_type": "markdown",
   "metadata": {},
   "source": [
    "Let's associate every category with a vector and append it to our attention vectors before prediction. We will use _nn.Embedding()_ for that, so feeding the model indices is the way to go."
   ]
  },
  {
   "cell_type": "code",
   "execution_count": 8,
   "metadata": {},
   "outputs": [
    {
     "data": {
      "text/plain": [
       "{'спорт': 0,\n",
       " 'работа, карьера': 1,\n",
       " 'философия, непознанное': 2,\n",
       " 'искусство и культура': 3,\n",
       " 'знакомства, любовь, отношения': 4,\n",
       " 'еда, кулинария': 5,\n",
       " 'семья, дом, дети': 6,\n",
       " 'животные, растения': 7,\n",
       " 'образование': 8,\n",
       " 'бизнес, финансы': 9,\n",
       " 'авто, мото': 10,\n",
       " 'путешествия, туризм': 11,\n",
       " 'стиль, мода, звезды': 12,\n",
       " 'досуг, развлечения': 13,\n",
       " 'красота и здоровье': 14}"
      ]
     },
     "execution_count": 8,
     "metadata": {},
     "output_type": "execute_result"
    }
   ],
   "source": [
    "categories = {sample['category'] for sample in qa_data}\n",
    "category_mapping = {\n",
    "    category: i for i, category in enumerate(categories)\n",
    "}\n",
    "\n",
    "category_mapping"
   ]
  },
  {
   "cell_type": "markdown",
   "metadata": {},
   "source": [
    "## Dataset"
   ]
  },
  {
   "cell_type": "code",
   "execution_count": 9,
   "metadata": {},
   "outputs": [
    {
     "data": {
      "text/plain": [
       "['<PAD>', '<UNK>', '<BOS>', '<EOS>', '▁', 'о', 'е', 'а', 'т', 'и']"
      ]
     },
     "execution_count": 9,
     "metadata": {},
     "output_type": "execute_result"
    }
   ],
   "source": [
    "tokenizer.vocab()[:10]"
   ]
  },
  {
   "cell_type": "code",
   "execution_count": 10,
   "metadata": {},
   "outputs": [
    {
     "data": {
      "text/plain": [
       "['<BOS>', '▁что', '▁вообще', '▁происходит?', '<EOS>']"
      ]
     },
     "execution_count": 10,
     "metadata": {},
     "output_type": "execute_result"
    }
   ],
   "source": [
    "tokenizer.encode('что вообще происходит?', bos=True, eos=True, output_type=yttm.OutputType.SUBWORD)"
   ]
  },
  {
   "cell_type": "code",
   "execution_count": 11,
   "metadata": {},
   "outputs": [
    {
     "data": {
      "text/plain": [
       "[2, 756, 1120, 21259, 3]"
      ]
     },
     "execution_count": 11,
     "metadata": {},
     "output_type": "execute_result"
    }
   ],
   "source": [
    "tokenizer.encode('что вообще происходит?', bos=True, eos=True)"
   ]
  },
  {
   "cell_type": "code",
   "execution_count": 12,
   "metadata": {},
   "outputs": [],
   "source": [
    "class Seq2SeqBucketingDataset(Dataset):\n",
    "    \n",
    "    def __init__(self,\n",
    "                 data: List[Dict],\n",
    "                 tokenizer,\n",
    "                 bos_index: int = 2,\n",
    "                 eos_index: int = 3,\n",
    "                 pad_index: int = 0,\n",
    "                 max_len: int = 50,\n",
    "                 batch_size: int = 256,\n",
    "                 is_sorted: bool = False):\n",
    "        \n",
    "        self.tokenizer = tokenizer\n",
    "        self.cache = {}\n",
    "        self.data = self.prepare_batches(data, batch_size)\n",
    "        self.max_len = max_len\n",
    "        self.pad_index = pad_index\n",
    "        self.bos_index = bos_index\n",
    "        self.eos_index = eos_index\n",
    "        \n",
    "    def __len__(self):\n",
    "        return len(self.data)\n",
    "    \n",
    "    def encode(self, sentence: str) -> List[int]:\n",
    "        if sentence in self.cache:\n",
    "            return self.cache[sentence]\n",
    "        indices = tokenizer.encode(sentence, bos=False, eos=False)\n",
    "        self.cache[sentence] = indices\n",
    "\n",
    "        return indices\n",
    "    \n",
    "    def prepare_batches(self, data, batch_size):\n",
    "        tokenized = []\n",
    "        for sample in tqdm(data):\n",
    "            q = self.encode(sample['question'])\n",
    "            category = category_mapping[sample['category']]\n",
    "            for r in set(sample['responses']):\n",
    "                tokenized.append((q, self.encode(r), category))\n",
    "\n",
    "        data = sorted(tokenized, key=lambda x: -len(x[0]))\n",
    "        \n",
    "        batched_data = []\n",
    "        for i_batch in range(math.ceil(len(data) / batch_size)):\n",
    "            batched_data.append((\n",
    "                [x[0] for x in data[i_batch * batch_size: (i_batch+1) * batch_size]],\n",
    "                [x[1] for x in data[i_batch * batch_size: (i_batch+1) * batch_size]],\n",
    "                [x[2] for x in data[i_batch * batch_size: (i_batch+1) * batch_size]]\n",
    "            ))\n",
    "\n",
    "        return batched_data\n",
    "    \n",
    "    def prepare_sequence(self, sequence, max_length):\n",
    "        sequence = [self.bos_index] + sequence[:max_length - 2] + [self.eos_index]\n",
    "        sequence += [self.pad_index] * (max_length - len(sequence))\n",
    "        \n",
    "        return sequence\n",
    "        \n",
    "    def __getitem__(self, index):\n",
    "        batch = self.data[index]\n",
    "        \n",
    "        max_len_x = min([self.max_len, max([len(sample) for sample in batch[0]])])\n",
    "        max_len_y = min([self.max_len, max([len(sample) for sample in batch[1]])])\n",
    "        \n",
    "        batch_x = [self.prepare_sequence(x, max_len_x) for x in batch[0]]\n",
    "        batch_y = [self.prepare_sequence(y, max_len_y) for y in batch[1]]\n",
    "        batch_categories = torch.tensor(batch[2]).long()\n",
    "        \n",
    "        batch_x = pack_sequence(torch.tensor(batch_x).long())\n",
    "        batch_y = torch.tensor(batch_y).long()\n",
    "        \n",
    "        return batch_x, batch_y, batch_categories"
   ]
  },
  {
   "cell_type": "code",
   "execution_count": 13,
   "metadata": {},
   "outputs": [],
   "source": [
    "train, val = train_test_split(qa_data, test_size=0.1, stratify=[sample['category'] for sample in qa_data], random_state=42)"
   ]
  },
  {
   "cell_type": "code",
   "execution_count": 14,
   "metadata": {},
   "outputs": [
    {
     "name": "stderr",
     "output_type": "stream",
     "text": [
      "100%|██████████| 2527929/2527929 [01:23<00:00, 30376.39it/s]\n",
      "100%|██████████| 280882/280882 [00:15<00:00, 18202.49it/s]\n"
     ]
    }
   ],
   "source": [
    "train_dataset = Seq2SeqBucketingDataset(train, tokenizer)\n",
    "val_dataset = Seq2SeqBucketingDataset(val, tokenizer)\n",
    "\n",
    "collate_fn = lambda x: x[0]\n",
    "train_loader = DataLoader(train_dataset, batch_size=1, shuffle=True, collate_fn=collate_fn)\n",
    "val_loader = DataLoader(val_dataset, batch_size=1, shuffle=False, collate_fn=collate_fn)"
   ]
  },
  {
   "cell_type": "markdown",
   "metadata": {},
   "source": [
    "## Model"
   ]
  },
  {
   "cell_type": "code",
   "execution_count": 15,
   "metadata": {},
   "outputs": [],
   "source": [
    "class SpatialDropout(nn.Dropout2d):\n",
    "    def __init__(self, p):\n",
    "        super().__init__()\n",
    "        self.p = p\n",
    "    \n",
    "    def forward(self, x):\n",
    "        x = x.unsqueeze(2)  # (N, T, 1, K)\n",
    "        x = x.permute(0, 3, 2, 1)  # (N, K, 1, T)\n",
    "        x = super(SpatialDropout, self).forward(x)  # (N, K, 1, T)\n",
    "        x = x.permute(0, 3, 2, 1)  # (N, T, 1, K)\n",
    "        x = x.squeeze(2)  # (N, T, K)\n",
    "        return x"
   ]
  },
  {
   "cell_type": "code",
   "execution_count": 16,
   "metadata": {},
   "outputs": [],
   "source": [
    "class Seq2SeqModel(nn.Module):\n",
    "    def __init__(self,\n",
    "                 vocab_size: int = 30000,\n",
    "                 embedding_dim: int = 100,\n",
    "                 model_dim: int = 128,\n",
    "                 cat_vocab_size: int = 15,\n",
    "                 cat_embedding_dim: int = 5,\n",
    "                 num_layers: int = 1,\n",
    "                 embedding_dropout: float = 0.25,\n",
    "                 dropout: float = 0.5,\n",
    "                 padding_idx: int = 0):\n",
    "        \n",
    "        super().__init__()\n",
    "        \n",
    "        self.num_layers = num_layers\n",
    "        self.padding_idx = padding_idx\n",
    "        \n",
    "        self.embedding = nn.Embedding(num_embeddings=vocab_size, embedding_dim=embedding_dim, padding_idx=padding_idx)\n",
    "        self.embedding_dropout = SpatialDropout(p=embedding_dropout)\n",
    "        \n",
    "        self.encoder = nn.LSTM(input_size=embedding_dim, hidden_size=model_dim, num_layers=num_layers,\n",
    "                               bidirectional=True, dropout=dropout, batch_first=True)\n",
    "        \n",
    "        self.cat_embedding = nn.Embedding(num_embeddings=cat_vocab_size, embedding_dim=cat_embedding_dim)\n",
    "        self.decoder = nn.LSTM(input_size=embedding_dim, hidden_size=model_dim * 2, num_layers=num_layers,\n",
    "                               bidirectional=False, dropout=dropout, batch_first=True)\n",
    "\n",
    "        self.dropout = nn.Dropout(dropout)\n",
    "        self.lm_head = nn.Linear(in_features=model_dim * 4 + cat_embedding_dim, out_features=vocab_size)\n",
    "    \n",
    "    @staticmethod\n",
    "    def mask_attn_weights(attn_weights, masking_lengths):\n",
    "        max_length = attn_weights.size(2)\n",
    "        mask = torch.arange(max_length)[None, None, :] < masking_lengths[:, None, None]\n",
    "        mask = mask.expand(-1, attn_weights.size(1), -1)\n",
    "        attn_weights[~mask] = float('-inf')\n",
    "\n",
    "        return attn_weights\n",
    "        \n",
    "    def calculate_attention(self, x, y, x_lengths):\n",
    "        attn_weights = torch.bmm(y, x.transpose(1, 2))\n",
    "        attn_weights = self.mask_attn_weights(attn_weights, x_lengths)\n",
    "        attn_weights = F.softmax(attn_weights, dim=-1)\n",
    "        attention = torch.bmm(attn_weights, x)\n",
    "        \n",
    "        return attention\n",
    "        \n",
    "    @staticmethod\n",
    "    def reshape_hidden_states(hidden_states):\n",
    "        fwd_hidden = hidden_states[0:hidden_states.size(0):2]\n",
    "        bwd_hidden = hidden_states[1:hidden_states.size(0):2]\n",
    "        hidden_states = torch.cat([fwd_hidden, bwd_hidden], dim=2)\n",
    "        \n",
    "        return hidden_states\n",
    "        \n",
    "    def forward(self, x, y, categories):\n",
    "        x, x_lengths = pad_packed_sequence(x, batch_first=True, padding_value=self.padding_idx)\n",
    "        x = self.embedding(x)\n",
    "        x = self.embedding_dropout(x)\n",
    "        \n",
    "        x = pack_padded_sequence(x, x_lengths, batch_first=True)\n",
    "        x, (eh, ec) = self.encoder(x)\n",
    "        x, x_lengths = pad_packed_sequence(x, batch_first=True, padding_value=self.padding_idx)\n",
    "        \n",
    "        y = self.embedding(y)\n",
    "        y = self.embedding_dropout(y)\n",
    "        \n",
    "        eh = self.reshape_hidden_states(eh)\n",
    "        ec = self.reshape_hidden_states(ec)\n",
    "        y, _ = self.decoder(y, (eh, ec))\n",
    "        \n",
    "        attention = self.calculate_attention(x, y, x_lengths)\n",
    "        categories = self.cat_embedding(categories).unsqueeze(1).expand(-1, y.size(1), -1)\n",
    "        combined = self.dropout(torch.cat([y, attention, categories], dim=-1))\n",
    "        logits = self.lm_head(combined)\n",
    "        \n",
    "        return logits"
   ]
  },
  {
   "cell_type": "code",
   "execution_count": 17,
   "metadata": {},
   "outputs": [
    {
     "name": "stderr",
     "output_type": "stream",
     "text": [
      "/opt/conda/lib/python3.8/site-packages/torch/nn/modules/rnn.py:58: UserWarning: dropout option adds dropout after all but last recurrent layer, so non-zero dropout expects num_layers greater than 1, but got dropout=0.5 and num_layers=1\n",
      "  warnings.warn(\"dropout option adds dropout after all but last \"\n"
     ]
    }
   ],
   "source": [
    "model = Seq2SeqModel()"
   ]
  },
  {
   "cell_type": "markdown",
   "metadata": {},
   "source": [
    "## Training"
   ]
  },
  {
   "cell_type": "code",
   "execution_count": 18,
   "metadata": {},
   "outputs": [],
   "source": [
    "class Trainer:\n",
    "    def __init__(self,\n",
    "                 model,\n",
    "                 criterion,\n",
    "                 optimizer,\n",
    "                 scheduler,\n",
    "                 model_path='model.pt',\n",
    "                 grad_acc_steps=4,\n",
    "                 device='cpu'):\n",
    "        \n",
    "        model.to(device)\n",
    "        self.model = model\n",
    "        self.criterion = criterion\n",
    "        self.optimizer = optimizer\n",
    "        self.scheduler = scheduler\n",
    "        self.grad_acc_steps = grad_acc_steps\n",
    "        self.device = device\n",
    "\n",
    "        if not model_path.endswith('.pt'):\n",
    "            model_path += '.pt'\n",
    "        self.model_path = model_path\n",
    "\n",
    "        self.train_losses = []\n",
    "        self.train_epoch_losses = []\n",
    "        self.valid_epoch_losses = []\n",
    "\n",
    "    def train(self,\n",
    "              train_loader,\n",
    "              valid_loader,\n",
    "              last_n_losses=500,\n",
    "              num_epochs=100,\n",
    "              clip=3.,\n",
    "              verbose=True):\n",
    "        best_valid_loss = float('inf')\n",
    "\n",
    "        for epoch in range(num_epochs):\n",
    "            print(f'Epoch {epoch + 1}/{num_epochs}:')\n",
    "            time.sleep(0.5)\n",
    "\n",
    "            self.model.train()\n",
    "\n",
    "            train_epoch_losses = []\n",
    "\n",
    "            progress_bar = tqdm(total=len(train_loader), disable=not verbose,\n",
    "                                position=0, leave=True, desc='Current progress: ')\n",
    "\n",
    "            for i, (x, y, categories) in enumerate(train_loader):\n",
    "                y_in = y[:, :-1]\n",
    "                y_out = y[:, 1:]\n",
    "                \n",
    "                x = x.to(self.device)\n",
    "                y_in = y_in.to(self.device)\n",
    "                y_out = y_out.to(self.device)\n",
    "                categories = categories.to(self.device)\n",
    "                \n",
    "                logits = self.model(x, y_in, categories)\n",
    "\n",
    "                loss = self.criterion(logits.transpose(1, 2), y_out)\n",
    "                self.train_losses.append(loss.item())\n",
    "                train_epoch_losses.append(loss.item())\n",
    "                \n",
    "                mean_loss = np.mean(self.train_losses[-last_n_losses:])\n",
    "                progress_bar.set_description(\n",
    "                    f'Loss: {mean_loss} Perplexity: {np.exp(mean_loss)}')\n",
    "                progress_bar.update()\n",
    "                \n",
    "                loss = loss / self.grad_acc_steps\n",
    "                loss.backward()\n",
    "                \n",
    "                if (i+1) % self.grad_acc_steps == 0:\n",
    "                    nn.utils.clip_grad_norm_(self.model.parameters(), clip)\n",
    "                    self.optimizer.step()\n",
    "                    self.optimizer.zero_grad()\n",
    "\n",
    "            progress_bar.close()\n",
    "\n",
    "            train_epoch_loss = np.mean(train_epoch_losses)\n",
    "            self.train_epoch_losses.append(train_epoch_loss)\n",
    "\n",
    "            valid_epoch_loss = self.evaluate(valid_loader)\n",
    "            self.valid_epoch_losses.append(valid_epoch_loss)\n",
    "            \n",
    "            self.scheduler.step(valid_epoch_loss)\n",
    "\n",
    "            print(f'Mean training loss: {train_epoch_loss}. Mean validation loss: {valid_epoch_loss}.\\n')\n",
    "\n",
    "            if valid_epoch_loss / best_valid_loss > 1.1:\n",
    "                print('Validation performance has started degrading. Performing early stopping.')\n",
    "                break\n",
    "\n",
    "            if valid_epoch_loss < best_valid_loss:\n",
    "                best_valid_loss = valid_epoch_loss\n",
    "                torch.save(self.model.state_dict(), self.model_path.replace('.pt', '_best.pt'))\n",
    "\n",
    "        return self.model\n",
    "\n",
    "    def evaluate(self, valid_loader):\n",
    "        self.model.eval()\n",
    "\n",
    "        losses = []\n",
    "        \n",
    "        for x, y, categories in valid_loader:\n",
    "            with torch.no_grad():\n",
    "                y_in = y[:, :-1]\n",
    "                y_out = y[:, 1:]\n",
    "\n",
    "                x = x.to(self.device)\n",
    "                y_in = y_in.to(self.device)\n",
    "                y_out = y_out.to(self.device)\n",
    "                categories = categories.to(self.device)\n",
    "\n",
    "                logits = self.model(x, y_in, categories)\n",
    "\n",
    "                losses.append(self.criterion(logits.transpose(1, 2), y_out).item())\n",
    "\n",
    "        return np.mean(losses).item()"
   ]
  },
  {
   "cell_type": "code",
   "execution_count": 19,
   "metadata": {},
   "outputs": [],
   "source": [
    "criterion = nn.CrossEntropyLoss(ignore_index=0)\n",
    "optimizer = torch.optim.Adam(model.parameters())\n",
    "scheduler = torch.optim.lr_scheduler.ReduceLROnPlateau(optimizer, factor=0.5, patience=1, threshold=0.1, min_lr=1e-5)\n",
    "\n",
    "trainer = Trainer(model, criterion, optimizer, scheduler, device='cuda:0')"
   ]
  },
  {
   "cell_type": "code",
   "execution_count": 20,
   "metadata": {},
   "outputs": [
    {
     "name": "stdout",
     "output_type": "stream",
     "text": [
      "Epoch 1/2:\n"
     ]
    },
    {
     "name": "stderr",
     "output_type": "stream",
     "text": [
      "Loss: 6.284877604484558 Perplexity: 536.3986338322612: 100%|██████████| 27285/27285 [1:20:14<00:00,  5.67it/s]   \n"
     ]
    },
    {
     "name": "stdout",
     "output_type": "stream",
     "text": [
      "Mean training loss: 6.705601697984318. Mean validation loss: 5.978469711002054.\n",
      "\n",
      "Epoch 2/2:\n"
     ]
    },
    {
     "name": "stderr",
     "output_type": "stream",
     "text": [
      "Loss: 6.047863467216492 Perplexity: 423.20786595286125: 100%|██████████| 27285/27285 [1:20:24<00:00,  5.66it/s] \n"
     ]
    },
    {
     "name": "stdout",
     "output_type": "stream",
     "text": [
      "Mean training loss: 6.1410089397028464. Mean validation loss: 5.713077190876793.\n"
     ]
    }
   ],
   "source": [
    "trainer.train(train_loader, val_loader, num_epochs=2)"
   ]
  },
  {
   "cell_type": "code",
   "execution_count": 21,
   "metadata": {},
   "outputs": [
    {
     "data": {
      "image/png": "[encoded data removed]",
      "text/plain": [
       "<Figure size 1008x864 with 1 Axes>"
      ]
     },
     "metadata": {
      "needs_background": "light"
     },
     "output_type": "display_data"
    }
   ],
   "source": [
    "plt.figure(figsize=(14, 12))\n",
    "plt.plot(trainer.train_losses)\n",
    "plt.grid()\n",
    "plt.title('Training process')\n",
    "plt.xlabel('Iterations')\n",
    "plt.ylabel('Training loss');"
   ]
  },
  {
   "cell_type": "markdown",
   "metadata": {},
   "source": [
    "## Generation"
   ]
  },
  {
   "cell_type": "code",
   "execution_count": 22,
   "metadata": {},
   "outputs": [
    {
     "data": {
      "text/plain": [
       "Seq2SeqModel(\n",
       "  (embedding): Embedding(30000, 100, padding_idx=0)\n",
       "  (embedding_dropout): SpatialDropout(p=0.25, inplace=False)\n",
       "  (encoder): LSTM(100, 128, batch_first=True, dropout=0.5, bidirectional=True)\n",
       "  (cat_embedding): Embedding(15, 5)\n",
       "  (decoder): LSTM(100, 256, batch_first=True, dropout=0.5)\n",
       "  (dropout): Dropout(p=0.5, inplace=False)\n",
       "  (lm_head): Linear(in_features=517, out_features=30000, bias=True)\n",
       ")"
      ]
     },
     "execution_count": 22,
     "metadata": {},
     "output_type": "execute_result"
    }
   ],
   "source": [
    "model = Seq2SeqModel()\n",
    "model.load_state_dict(torch.load('model_best.pt', map_location='cpu'))\n",
    "model.eval()"
   ]
  },
  {
   "cell_type": "code",
   "execution_count": 23,
   "metadata": {},
   "outputs": [],
   "source": [
    "def generate_beam(question, category, k: int = 3, max_length: int = 100, device: str = 'cpu'):\n",
    "    question = pack_sequence([torch.tensor(tokenizer.encode(question, bos=True, eos=True)).long()])\n",
    "    category = torch.tensor([category_mapping[category]]).long()\n",
    "    \n",
    "    question = question.to(device)\n",
    "    category = category.to(device)\n",
    "    \n",
    "    beam = {\n",
    "        1.0: [val_dataset.bos_index]\n",
    "    }\n",
    "    beam_next = {}\n",
    "    \n",
    "    while True:\n",
    "        for score, indices in beam.items():\n",
    "            if len(indices) >= max_length or indices[-1] == val_dataset.eos_index:\n",
    "                beam_next[score] = indices\n",
    "                continue\n",
    "            \n",
    "            with torch.no_grad():\n",
    "                y_in = torch.tensor([indices]).long()\n",
    "                y_in = y_in.to(device)\n",
    "                logits = model(question, y_in, category)\n",
    "                probs = F.softmax(logits[0, -1, :], dim=0)\n",
    "                top_k_indices = probs.argsort()[-k:]\n",
    "            \n",
    "            for idx in top_k_indices:\n",
    "                beam_next[score * probs[idx].item()] = indices + [idx.item()]\n",
    "                \n",
    "        beam = {key: value for key, value in sorted(beam_next.items())[-k:]}\n",
    "        beam_next = {}\n",
    "        \n",
    "        if all(len(indices) >= max_length or indices[-1] == val_dataset.eos_index\n",
    "               for indices in beam.values()):\n",
    "            break\n",
    "        \n",
    "    best_indices = max(beam.items())[1]\n",
    "    \n",
    "    return tokenizer.decode(best_indices)"
   ]
  },
  {
   "cell_type": "code",
   "execution_count": 24,
   "metadata": {},
   "outputs": [
    {
     "name": "stdout",
     "output_type": "stream",
     "text": [
      "Category:досуг, развлечения\n",
      "Question: \"челы помогите чем занятся летом в каникулы?\"\n",
      "Model response: <BOS> а что за бред?<EOS>\n",
      "\n",
      "Category:искусство и культура\n",
      "Question: \"есть ли у оливии кук страничка в социальных сетях? есть ли страничка\"\n",
      "Model response: <BOS> у нас в городе есть.<EOS>\n",
      "\n",
      "Category:животные, растения\n",
      "Question: \"почему постельные клопы выходят вечером? и укус чем вреден? они мужчин кусают?\"\n",
      "Model response: <BOS> потому что они не умеют<EOS>\n",
      "\n",
      "Category:семья, дом, дети\n",
      "Question: \"помогите!! ! очень срочно! может у кого так было.. . особенно врачи!\"\n",
      "Model response: <BOS> а у меня нет<EOS>\n",
      "\n",
      "Category:животные, растения\n",
      "Question: \"на стенках аквариума из оргстекла вверху образовался белый налет (от испарения воды). как его удалить?\"\n",
      "Model response: <BOS> а у нас в городе есть<EOS>\n",
      "\n",
      "Category:образование\n",
      "Question: \"как побороть лень?\"\n",
      "Model response: <BOS> а зачем тебе это?<EOS>\n",
      "\n",
      "Category:красота и здоровье\n",
      "Question: \"в каких пропорциях развести яблочный уксус с водой, чтобы сбить температуру?\"\n",
      "Model response: <BOS> в любом случае<EOS>\n",
      "\n",
      "Category:искусство и культура\n",
      "Question: \"где можно скачать клип vanilla sky \"umbrella \" (ту, что рихана поёт)\"\n",
      "Model response: <BOS> [ссылка заблокирована по решению администрации проекта]<EOS>\n",
      "\n",
      "Category:искусство и культура\n",
      "Question: \"зацените мой клип-переделку. по-моему даже круче, чем в оригинале?\"\n",
      "Model response: <BOS> а я не знаю<EOS>\n",
      "\n",
      "Category:знакомства, любовь, отношения\n",
      "Question: \"ой да ппц, стал врагом народа))) а за что? за то что учился и время не просирал ?\"\n",
      "Model response: <BOS> а что за бред?<EOS>\n",
      "\n"
     ]
    }
   ],
   "source": [
    "for sample in np.random.choice(val, 10):\n",
    "    question = sample['question']\n",
    "    category = sample['category']\n",
    "    model_response = generate_beam(question, category)\n",
    "    \n",
    "    print(f'Category:{category}\\nQuestion: \"{question}\"\\nModel response: {\" \".join(model_response)}\\n')"
   ]
  },
  {
   "cell_type": "markdown",
   "metadata": {},
   "source": [
    "# What was done"
   ]
  },
  {
   "cell_type": "markdown",
   "metadata": {},
   "source": [
    "1. Dataset + Model + training loop\n",
    "2. LSTM + attention seq2seq model, conditioned on question category\n",
    "3. Gradient accumulation (effective batch size = 1024)\n",
    "4. Beam search decoding"
   ]
  },
  {
   "cell_type": "code",
   "execution_count": null,
   "metadata": {},
   "outputs": [],
   "source": []
  }
 ],
 "metadata": {
  "kernelspec": {
   "display_name": "Python 3",
   "language": "python",
   "name": "python3"
  },
  "language_info": {
   "codemirror_mode": {
    "name": "ipython",
    "version": 3
   },
   "file_extension": ".py",
   "mimetype": "text/x-python",
   "name": "python",
   "nbconvert_exporter": "python",
   "pygments_lexer": "ipython3",
   "version": "3.8.3"
  }
 },
 "nbformat": 4,
 "nbformat_minor": 4
}
